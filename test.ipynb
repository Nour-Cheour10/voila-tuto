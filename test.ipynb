{
 "cells": [
  {
   "cell_type": "code",
   "execution_count": 1,
   "id": "ddcd245e-0d83-4d18-ae65-49bdd09a5fc0",
   "metadata": {},
   "outputs": [],
   "source": [
    "from bqplot import pyplot as plt\n",
    "import ipywidgets as widgets \n",
    "import numpy as np"
   ]
  },
  {
   "cell_type": "code",
   "execution_count": 3,
   "id": "a356109f-3cce-4c30-81a6-0af9bf7aab01",
   "metadata": {},
   "outputs": [],
   "source": [
    "n=2000\n",
    "x=np.linspace(0.0,10.0,n)\n",
    "np.random.seed(0)\n",
    "y=np.cumsum(np.random.randn(n)*10).astype(int)"
   ]
  },
  {
   "cell_type": "code",
   "execution_count": 5,
   "id": "329494ad-16cd-4489-b4e5-9fcd73f4a403",
   "metadata": {},
   "outputs": [
    {
     "data": {
      "application/vnd.jupyter.widget-view+json": {
       "model_id": "5355b939171b4977be1e0d49d2146a0d",
       "version_major": 2,
       "version_minor": 0
      },
      "text/plain": [
       "Figure(axes=[Axis(orientation='vertical', scale=LinearScale()), Axis(scale=LinearScale())], fig_margin={'top':…"
      ]
     },
     "execution_count": 5,
     "metadata": {},
     "output_type": "execute_result"
    }
   ],
   "source": [
    "fig_hist =  plt.figure( title=\"histogram\")\n",
    "hist = plt.hist(y,bins=25)\n",
    "fig_hist"
   ]
  },
  {
   "cell_type": "code",
   "execution_count": 7,
   "id": "1724c30c-38ab-4fe1-b639-9a8193e8bad4",
   "metadata": {},
   "outputs": [
    {
     "data": {
      "application/vnd.jupyter.widget-view+json": {
       "model_id": "a9201cabea8740d58def9d55ce472bd4",
       "version_major": 2,
       "version_minor": 0
      },
      "text/plain": [
       "IntSlider(value=1, min=1)"
      ]
     },
     "execution_count": 7,
     "metadata": {},
     "output_type": "execute_result"
    }
   ],
   "source": [
    "slider = widgets.IntSlider(min=1,max=100,v_model=30)\n",
    "slider\n"
   ]
  },
  {
   "cell_type": "code",
   "execution_count": 8,
   "id": "2c822f59-7708-49fe-bdfd-78fdcb446d3c",
   "metadata": {},
   "outputs": [],
   "source": [
    "slider.value=40"
   ]
  },
  {
   "cell_type": "code",
   "execution_count": 10,
   "id": "424aa22a-9736-4002-b6c9-88f9b0434951",
   "metadata": {},
   "outputs": [],
   "source": [
    "widgets.link((hist,'bins'),(slider,'value'));\n"
   ]
  },
  {
   "cell_type": "code",
   "execution_count": 12,
   "id": "021279fa-2e14-443d-b354-3f124a4af068",
   "metadata": {},
   "outputs": [
    {
     "data": {
      "application/vnd.jupyter.widget-view+json": {
       "model_id": "e5351db227dc430aa3ac244361fe77d0",
       "version_major": 2,
       "version_minor": 0
      },
      "text/plain": [
       "Figure(axes=[Axis(scale=LinearScale()), Axis(orientation='vertical', scale=LinearScale())], fig_margin={'top':…"
      ]
     },
     "execution_count": 12,
     "metadata": {},
     "output_type": "execute_result"
    }
   ],
   "source": [
    "fig_lines=plt.figure(title='Line Chart')\n",
    "lines= plt.plot(x,y)\n",
    "fig_lines"
   ]
  },
  {
   "cell_type": "code",
   "execution_count": 16,
   "id": "5e5e8e3e-6ad2-4eb0-9354-1905a8b04ed6",
   "metadata": {},
   "outputs": [],
   "source": [
    "selector=plt.brush_int_selector()\n",
    "def update_range(*ignore):\n",
    "    if selector.selected is not None and len(selector.selected)==2:\n",
    "        xmin,xmax =selector.selected\n",
    "        mask = (x>xmin) & (x<xmax)\n",
    "        hist.sample =y[mask]\n",
    "selector.observe(update_range,'selected')\n"
   ]
  },
  {
   "cell_type": "code",
   "execution_count": null,
   "id": "34dc1479-a6f4-49ba-ac23-e4f7b51f3a4f",
   "metadata": {},
   "outputs": [],
   "source": []
  }
 ],
 "metadata": {
  "kernelspec": {
   "display_name": "Python 3 (ipykernel)",
   "language": "python",
   "name": "python3"
  },
  "language_info": {
   "codemirror_mode": {
    "name": "ipython",
    "version": 3
   },
   "file_extension": ".py",
   "mimetype": "text/x-python",
   "name": "python",
   "nbconvert_exporter": "python",
   "pygments_lexer": "ipython3",
   "version": "3.12.2"
  }
 },
 "nbformat": 4,
 "nbformat_minor": 5
}
